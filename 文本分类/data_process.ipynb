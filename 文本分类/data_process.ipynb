{
 "cells": [
  {
   "cell_type": "code",
   "execution_count": 9,
   "metadata": {},
   "outputs": [
    {
     "name": "stdout",
     "output_type": "stream",
     "text": [
      "{'__lable__企业_制造业办公/工厂': '0', '__lable__企业_小企业办公': '1', '__lable__别墅家居_别墅家居': '2', '__lable__医院_乡镇卫生院': '3', '__lable__医院_其他医院': '4', '__lable__医院_区县对公医院': '5', '__lable__医院_私立医院': '6', '__lable__商业服务_KTV': '7', '__lable__商业服务_商业其他': '8', '__lable__商业服务_商业地产': '9', '__lable__商业服务_商业大厦/写字楼': '10', '__lable__商业服务_商业综合体': '11', '__lable__商业服务_景区': '12', '__lable__商业服务_网吧': '13', '__lable__商业服务_餐饮': '14', '__lable__商业连锁_连锁其他': '15', '__lable__商业连锁_餐饮连锁': '16', '__lable__政府_区县政府': '17', '__lable__政府_政府其他': '18', '__lable__教育_中学': '19', '__lable__教育_其他学校': '20', '__lable__教育_培训机构': '21', '__lable__教育_大学/学院': '22', '__lable__教育_小学': '23', '__lable__教育_幼儿园': '24', '__lable__教育_职业学校': '25', '__lable__酒店_公寓群租房': '26', '__lable__酒店_星级酒店': '27', '__lable__酒店_民宿': '28', '__lable__酒店_经济型单体酒店': '29', '__lable__酒店_连锁酒店': '30', '__lable__金融_证券保险': '31', '__lable__金融_银行': '32'}\n"
     ]
    }
   ],
   "source": [
    "import numpy as np\n",
    "import pandas as pd \n",
    "import jieba\n",
    "import jieba.analyse\n",
    "import os\n",
    "import re\n",
    "\n",
    "df_base = pd.read_csv(\"./cjsb_all_new3.csv\")\n",
    "gb = df_base.groupby('场景名')\n",
    "lables_tmp0 = [ key for key in gb.groups]\n",
    "lables = dict()\n",
    "for id, sent in enumerate(lables_tmp0):\n",
    "    lables[sent] = str(id)\n",
    "print(lables)\n"
   ]
  },
  {
   "cell_type": "code",
   "execution_count": 17,
   "metadata": {},
   "outputs": [
    {
     "name": "stdout",
     "output_type": "stream",
     "text": [
      "['企业_制造业办公/工厂', '企业_小企业办公', '别墅家居_别墅家居', '医院_乡镇卫生院', '医院_其他医院', '医院_区县对公医院', '医院_私立医院', '商业服务_KTV', '商业服务_商业其他', '商业服务_商业地产', '商业服务_商业大厦/写字楼', '商业服务_商业综合体', '商业服务_景区', '商业服务_网吧', '商业服务_餐饮', '商业连锁_连锁其他', '商业连锁_餐饮连锁', '政府_区县政府', '政府_政府其他', '教育_中学', '教育_其他学校', '教育_培训机构', '教育_大学/学院', '教育_小学', '教育_幼儿园', '教育_职业学校', '酒店_公寓群租房', '酒店_星级酒店', '酒店_民宿', '酒店_经济型单体酒店', '酒店_连锁酒店', '金融_证券保险', '金融_银行']\n"
     ]
    }
   ],
   "source": [
    "tmp = []\n",
    "for sent in lables_tmp0:\n",
    "    txt = str(sent).replace(\"__lable__\", \"\")\n",
    "    tmp.append(txt)\n",
    "print(tmp)"
   ]
  },
  {
   "cell_type": "code",
   "execution_count": 15,
   "metadata": {},
   "outputs": [],
   "source": [
    "df_base.head(10)\n",
    "txt = \"\"\n",
    "with open(\"./news_classify_data.txt\", 'a', encoding=\"utf-8\") as f: \n",
    "    for id,group in gb:    \n",
    "        for id1, row in group.iterrows():\n",
    "            txt += str(id1) + \"_!_\" + lables[str(row['场景名'])] + \"_!_\" + str(row['场景名']) + \"_!_\" + str(row[\"训练文本\"])\n",
    "            txt = txt.replace(\"__lable__\", \"\")\n",
    "            f.writelines(txt+\"\\n\")\n",
    "            txt = \"\""
   ]
  },
  {
   "cell_type": "code",
   "execution_count": null,
   "metadata": {},
   "outputs": [],
   "source": []
  }
 ],
 "metadata": {
  "kernelspec": {
   "display_name": "Python 3",
   "language": "python",
   "name": "python3"
  },
  "language_info": {
   "codemirror_mode": {
    "name": "ipython",
    "version": 3
   },
   "file_extension": ".py",
   "mimetype": "text/x-python",
   "name": "python",
   "nbconvert_exporter": "python",
   "pygments_lexer": "ipython3",
   "version": "3.8.5"
  }
 },
 "nbformat": 4,
 "nbformat_minor": 4
}
